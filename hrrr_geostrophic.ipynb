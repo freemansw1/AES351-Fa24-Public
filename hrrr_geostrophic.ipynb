{
 "cells": [
  {
   "cell_type": "markdown",
   "metadata": {},
   "source": [
    "# Plot Geostrophic Winds from HRRR"
   ]
  },
  {
   "cell_type": "code",
   "execution_count": 1,
   "metadata": {},
   "outputs": [],
   "source": [
    "# to make plots inline with the notebook\n",
    "%matplotlib inline"
   ]
  },
  {
   "cell_type": "code",
   "execution_count": null,
   "metadata": {},
   "outputs": [],
   "source": [
    "# to install the herbie library\n",
    "!pip install herbie-data"
   ]
  },
  {
   "cell_type": "code",
   "execution_count": 30,
   "metadata": {},
   "outputs": [],
   "source": [
    "# standard imports\n",
    "\n",
    "from herbie import Herbie\n",
    "from herbie.toolbox import EasyMap, pc\n",
    "from herbie import paint\n",
    "\n",
    "import matplotlib.pyplot as plt\n",
    "import cartopy.crs as ccrs\n",
    "import numpy as np\n",
    "import metpy.calc\n",
    "import metpy.units"
   ]
  },
  {
   "cell_type": "markdown",
   "metadata": {},
   "source": [
    "## Load in data from HRRR"
   ]
  },
  {
   "cell_type": "code",
   "execution_count": null,
   "metadata": {},
   "outputs": [],
   "source": [
    "# this loads in the pressure level data from HRRR (prs, hrrr) at forecast hour 0 from 10/14/2024.\n",
    "H = Herbie(\n",
    "    \"2024-10-14\",\n",
    "    model=\"hrrr\",\n",
    "    product=\"prs\",\n",
    "    fxx=0,\n",
    "    save_dir=\"./hrrr/\"\n",
    ")"
   ]
  },
  {
   "cell_type": "markdown",
   "metadata": {},
   "source": [
    "## Load in HRRR Variables"
   ]
  },
  {
   "cell_type": "code",
   "execution_count": 13,
   "metadata": {},
   "outputs": [],
   "source": [
    "heights_500_hpa = H.xarray(\"HGT:500 mb\")"
   ]
  },
  {
   "cell_type": "code",
   "execution_count": null,
   "metadata": {},
   "outputs": [],
   "source": [
    "heights_500_hpa"
   ]
  },
  {
   "cell_type": "code",
   "execution_count": 28,
   "metadata": {},
   "outputs": [],
   "source": [
    "heights_500_hpa = heights_500_hpa.drop('time')"
   ]
  },
  {
   "cell_type": "markdown",
   "metadata": {},
   "source": [
    "## Make Plot"
   ]
  },
  {
   "cell_type": "code",
   "execution_count": null,
   "metadata": {},
   "outputs": [],
   "source": [
    "# Let's make a basic plot of geopotential height\n",
    "ax = EasyMap(\"50m\", crs=heights_500_hpa.herbie.crs, figsize=[10, 8]).BORDERS().STATES().ax\n",
    "height_contours = ax.contour(\n",
    "    heights_500_hpa.longitude,\n",
    "    heights_500_hpa.latitude,\n",
    "    heights_500_hpa.gh,\n",
    "    transform=pc,\n",
    "    levels = np.arange(5200, 6000, 40)\n",
    ")\n",
    "ax.clabel(height_contours, height_contours.levels, inline=True, fontsize=10)\n"
   ]
  },
  {
   "cell_type": "markdown",
   "metadata": {},
   "source": [
    "## Geostrophic Wind Calculation"
   ]
  },
  {
   "cell_type": "code",
   "execution_count": 35,
   "metadata": {},
   "outputs": [],
   "source": [
    "# there are a lot of ways to calculate geostrophic wind with python! \n",
    "\n",
    "# as with many Python-related things, let's use the Metpy function to calculate geostrophic wind. \n",
    "# No need to reinvent the wheel.\n",
    "geo_wind = metpy.calc.geostrophic_wind(heights_500_hpa.gh*metpy.units.units(\"m\"), dx=3000*metpy.units.units(\"m\"),\n",
    "                                       dy = 3000 *metpy.units.units(\"m\"),\n",
    "                                       latitude=heights_500_hpa.latitude, \n",
    "                                       longitude=heights_500_hpa.longitude)"
   ]
  },
  {
   "cell_type": "code",
   "execution_count": null,
   "metadata": {},
   "outputs": [],
   "source": [
    "# Let's make a basic plot of geopotential height\n",
    "ax = EasyMap(\"50m\", crs=heights_500_hpa.herbie.crs, figsize=[10, 8]).BORDERS().STATES().ax\n",
    "height_contours = ax.contour(\n",
    "    heights_500_hpa.longitude,\n",
    "    heights_500_hpa.latitude,\n",
    "    heights_500_hpa.gh,\n",
    "    transform=pc,\n",
    "    levels = np.arange(5200, 6000, 40)\n",
    ")\n",
    "ax.clabel(height_contours, height_contours.levels, inline=True, fontsize=10)\n",
    "\n",
    "p = ax.pcolormesh(    heights_500_hpa.longitude,\n",
    "    heights_500_hpa.latitude,\n",
    "    metpy.calc.wind_speed(geo_wind[0], geo_wind[1]),\n",
    "    transform=pc,\n",
    "    vmin=0, vmax = 100\n",
    ")\n",
    "plt.colorbar(p)\n",
    "plt.title(\"YOUR NAME HERE\")\n",
    "plt.savefig('geo_winds.png')"
   ]
  },
  {
   "cell_type": "code",
   "execution_count": null,
   "metadata": {},
   "outputs": [],
   "source": []
  }
 ],
 "metadata": {
  "kernelspec": {
   "display_name": "base",
   "language": "python",
   "name": "python3"
  },
  "language_info": {
   "codemirror_mode": {
    "name": "ipython",
    "version": 3
   },
   "file_extension": ".py",
   "mimetype": "text/x-python",
   "name": "python",
   "nbconvert_exporter": "python",
   "pygments_lexer": "ipython3",
   "version": "3.11.5"
  }
 },
 "nbformat": 4,
 "nbformat_minor": 2
}
